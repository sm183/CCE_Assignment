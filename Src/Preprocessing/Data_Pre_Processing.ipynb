{
  "nbformat": 4,
  "nbformat_minor": 0,
  "metadata": {
    "colab": {
      "provenance": [],
      "include_colab_link": true
    },
    "kernelspec": {
      "name": "python3",
      "display_name": "Python 3"
    },
    "language_info": {
      "name": "python"
    }
  },
  "cells": [
    {
      "cell_type": "markdown",
      "metadata": {
        "id": "view-in-github",
        "colab_type": "text"
      },
      "source": [
        "<a href=\"https://colab.research.google.com/github/sm183/CCE_Assignment/blob/main/Src/Preprocessing/Data_Pre_Processing.ipynb\" target=\"_parent\"><img src=\"https://colab.research.google.com/assets/colab-badge.svg\" alt=\"Open In Colab\"/></a>"
      ]
    },
    {
      "cell_type": "code",
      "source": [
        "import os\n",
        "import pandas as pd\n",
        "from sklearn.preprocessing import LabelEncoder\n",
        "\n",
        "def load_and_preprocess_data(file_path, save_folder, save_filename=\"preprocessed_data.csv\"):\n",
        "    \"\"\"\n",
        "    Load the dataset and preprocess it:\n",
        "    - Encode categorical variables.\n",
        "    - Handle missing values:\n",
        "      - For non-categorical data, check skewness to decide between mean and median imputation.\n",
        "      - For categorical data, replace missing values with the most frequent value.\n",
        "    - Ensure that 'Age' column values are absolute, and replace missing values with absolute mean/median.\n",
        "    - Save the preprocessed data to a specified folder.\n",
        "    \"\"\"\n",
        "    # Load the data\n",
        "    data = pd.read_csv(file_path, on_bad_lines='skip')\n",
        "\n",
        "    # Replace spaces in column names with underscores\n",
        "    data.columns = data.columns.str.replace(' ', '_')\n",
        "\n",
        "    # Encode categorical variable 'Gender' (assigns 0 to female and 1 to male)\n",
        "    label_encoder = LabelEncoder()\n",
        "    data['Gender'] = label_encoder.fit_transform(data['Gender'])\n",
        "\n",
        "    # Handle 'Age' column specifically: Ensure absolute values and handle missing data\n",
        "    if 'Age' in data.columns:\n",
        "        data['Age'] = data['Age'].abs()  # Ensure 'Age' is absolute\n",
        "        if data['Age'].isnull().sum() > 0:  # If there are missing values\n",
        "            if abs(data['Age'].skew()) >= 0.5:  # Check for skewness\n",
        "                # Replace with absolute median\n",
        "                median_age = abs(data['Age'].median())\n",
        "                data['Age'] = data['Age'].fillna(value=median_age)\n",
        "            else:\n",
        "                # Replace with absolute mean\n",
        "                mean_age = abs(data['Age'].mean())\n",
        "                data['Age'] = data['Age'].fillna(value=mean_age)\n",
        "\n",
        "    # Handle missing values for other columns\n",
        "    for column in data.columns:\n",
        "        if column != 'Age':  # 'Age' already handled\n",
        "            if data[column].dtype == 'object':  # Categorical data\n",
        "                most_frequent = data[column].mode()[0]\n",
        "                data[column] = data[column].fillna(value=most_frequent)\n",
        "            else:  # Numeric data\n",
        "                if data[column].isnull().sum() > 0:  # Only process columns with missing values\n",
        "                    if abs(data[column].skew()) >= 0.5:  # Check for skewness\n",
        "                        # Replace with absolute median\n",
        "                        median_value = abs(data[column].median())\n",
        "                        data[column] = data[column].fillna(value=median_value)\n",
        "                    else:\n",
        "                        # Replace with absolute mean\n",
        "                        mean_value = abs(data[column].mean())\n",
        "                        data[column] = data[column].fillna(value=mean_value)\n",
        "\n",
        "    # Ensure the save folder exists\n",
        "    os.makedirs(save_folder, exist_ok=True)\n",
        "\n",
        "    # Save the preprocessed data to the specified folder\n",
        "    save_path = os.path.join(save_folder, save_filename)\n",
        "    data.to_csv(save_path, index=False)\n",
        "\n",
        "    print(f\"Preprocessed data saved to: {save_path}\")\n",
        "    return data\n"
      ],
      "metadata": {
        "id": "eBK7JWk0rJRK"
      },
      "execution_count": null,
      "outputs": []
    },
    {
      "cell_type": "code",
      "source": [
        "# File path to the dataset\n",
        "file_path = 'advertising_ef.csv'\n",
        "save_folder = 'Data/Processed_data'\n",
        "preprocessed_data = load_and_preprocess_data(file_path, save_folder)\n",
        "print(preprocessed_data)"
      ],
      "metadata": {
        "id": "JXHOHDzzyj0D"
      },
      "execution_count": null,
      "outputs": []
    },
    {
      "cell_type": "code",
      "source": [],
      "metadata": {
        "id": "EknX7goswpJj"
      },
      "execution_count": null,
      "outputs": []
    }
  ]
}